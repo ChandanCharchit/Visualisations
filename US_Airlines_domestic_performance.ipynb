{
  "nbformat": 4,
  "nbformat_minor": 0,
  "metadata": {
    "colab": {
      "name": "US Airlines domestic performance.ipynb",
      "provenance": [],
      "authorship_tag": "ABX9TyPYyUQkxe870L60jOkNDJ8e",
      "include_colab_link": true
    },
    "kernelspec": {
      "name": "python3",
      "display_name": "Python 3"
    }
  },
  "cells": [
    {
      "cell_type": "markdown",
      "metadata": {
        "id": "view-in-github",
        "colab_type": "text"
      },
      "source": [
        "<a href=\"https://colab.research.google.com/github/ChandanCharchit/Visualisations/blob/main/US_Airlines_domestic_performance.ipynb\" target=\"_parent\"><img src=\"https://colab.research.google.com/assets/colab-badge.svg\" alt=\"Open In Colab\"/></a>"
      ]
    },
    {
      "cell_type": "code",
      "metadata": {
        "colab": {
          "base_uri": "https://localhost:8080/"
        },
        "id": "p9GhOgnmwu4u",
        "outputId": "c8f5a787-fcd5-473a-9cd4-5f18cbcb42ff"
      },
      "source": [
        "# Import required libraries\r\n",
        "import pandas as pd\r\n",
        "!pip install dash\r\n",
        "!pip install jupyter_dash\r\n"
      ],
      "execution_count": 36,
      "outputs": [
        {
          "output_type": "stream",
          "text": [
            "Requirement already satisfied: dash in /usr/local/lib/python3.7/dist-packages (1.19.0)\n",
            "Requirement already satisfied: flask-compress in /usr/local/lib/python3.7/dist-packages (from dash) (1.9.0)\n",
            "Requirement already satisfied: Flask>=1.0.4 in /usr/local/lib/python3.7/dist-packages (from dash) (1.1.2)\n",
            "Requirement already satisfied: dash-renderer==1.9.0 in /usr/local/lib/python3.7/dist-packages (from dash) (1.9.0)\n",
            "Requirement already satisfied: plotly in /usr/local/lib/python3.7/dist-packages (from dash) (4.4.1)\n",
            "Requirement already satisfied: dash-table==4.11.2 in /usr/local/lib/python3.7/dist-packages (from dash) (4.11.2)\n",
            "Requirement already satisfied: dash-core-components==1.15.0 in /usr/local/lib/python3.7/dist-packages (from dash) (1.15.0)\n",
            "Requirement already satisfied: dash-html-components==1.1.2 in /usr/local/lib/python3.7/dist-packages (from dash) (1.1.2)\n",
            "Requirement already satisfied: future in /usr/local/lib/python3.7/dist-packages (from dash) (0.16.0)\n",
            "Requirement already satisfied: brotli in /usr/local/lib/python3.7/dist-packages (from flask-compress->dash) (1.0.9)\n",
            "Requirement already satisfied: Werkzeug>=0.15 in /usr/local/lib/python3.7/dist-packages (from Flask>=1.0.4->dash) (1.0.1)\n",
            "Requirement already satisfied: Jinja2>=2.10.1 in /usr/local/lib/python3.7/dist-packages (from Flask>=1.0.4->dash) (2.11.3)\n",
            "Requirement already satisfied: click>=5.1 in /usr/local/lib/python3.7/dist-packages (from Flask>=1.0.4->dash) (7.1.2)\n",
            "Requirement already satisfied: itsdangerous>=0.24 in /usr/local/lib/python3.7/dist-packages (from Flask>=1.0.4->dash) (1.1.0)\n",
            "Requirement already satisfied: six in /usr/local/lib/python3.7/dist-packages (from plotly->dash) (1.15.0)\n",
            "Requirement already satisfied: retrying>=1.3.3 in /usr/local/lib/python3.7/dist-packages (from plotly->dash) (1.3.3)\n",
            "Requirement already satisfied: MarkupSafe>=0.23 in /usr/local/lib/python3.7/dist-packages (from Jinja2>=2.10.1->Flask>=1.0.4->dash) (1.1.1)\n",
            "Requirement already satisfied: jupyter_dash in /usr/local/lib/python3.7/dist-packages (0.4.0)\n",
            "Requirement already satisfied: requests in /usr/local/lib/python3.7/dist-packages (from jupyter_dash) (2.23.0)\n",
            "Requirement already satisfied: ansi2html in /usr/local/lib/python3.7/dist-packages (from jupyter_dash) (1.6.0)\n",
            "Requirement already satisfied: ipykernel in /usr/local/lib/python3.7/dist-packages (from jupyter_dash) (4.10.1)\n",
            "Requirement already satisfied: dash in /usr/local/lib/python3.7/dist-packages (from jupyter_dash) (1.19.0)\n",
            "Requirement already satisfied: flask in /usr/local/lib/python3.7/dist-packages (from jupyter_dash) (1.1.2)\n",
            "Requirement already satisfied: retrying in /usr/local/lib/python3.7/dist-packages (from jupyter_dash) (1.3.3)\n",
            "Requirement already satisfied: ipython in /usr/local/lib/python3.7/dist-packages (from jupyter_dash) (5.5.0)\n",
            "Requirement already satisfied: urllib3!=1.25.0,!=1.25.1,<1.26,>=1.21.1 in /usr/local/lib/python3.7/dist-packages (from requests->jupyter_dash) (1.24.3)\n",
            "Requirement already satisfied: chardet<4,>=3.0.2 in /usr/local/lib/python3.7/dist-packages (from requests->jupyter_dash) (3.0.4)\n",
            "Requirement already satisfied: certifi>=2017.4.17 in /usr/local/lib/python3.7/dist-packages (from requests->jupyter_dash) (2020.12.5)\n",
            "Requirement already satisfied: idna<3,>=2.5 in /usr/local/lib/python3.7/dist-packages (from requests->jupyter_dash) (2.10)\n",
            "Requirement already satisfied: traitlets>=4.1.0 in /usr/local/lib/python3.7/dist-packages (from ipykernel->jupyter_dash) (5.0.5)\n",
            "Requirement already satisfied: tornado>=4.0 in /usr/local/lib/python3.7/dist-packages (from ipykernel->jupyter_dash) (5.1.1)\n",
            "Requirement already satisfied: jupyter-client in /usr/local/lib/python3.7/dist-packages (from ipykernel->jupyter_dash) (5.3.5)\n",
            "Requirement already satisfied: dash-table==4.11.2 in /usr/local/lib/python3.7/dist-packages (from dash->jupyter_dash) (4.11.2)\n",
            "Requirement already satisfied: dash-html-components==1.1.2 in /usr/local/lib/python3.7/dist-packages (from dash->jupyter_dash) (1.1.2)\n",
            "Requirement already satisfied: future in /usr/local/lib/python3.7/dist-packages (from dash->jupyter_dash) (0.16.0)\n",
            "Requirement already satisfied: flask-compress in /usr/local/lib/python3.7/dist-packages (from dash->jupyter_dash) (1.9.0)\n",
            "Requirement already satisfied: plotly in /usr/local/lib/python3.7/dist-packages (from dash->jupyter_dash) (4.4.1)\n",
            "Requirement already satisfied: dash-renderer==1.9.0 in /usr/local/lib/python3.7/dist-packages (from dash->jupyter_dash) (1.9.0)\n",
            "Requirement already satisfied: dash-core-components==1.15.0 in /usr/local/lib/python3.7/dist-packages (from dash->jupyter_dash) (1.15.0)\n",
            "Requirement already satisfied: Jinja2>=2.10.1 in /usr/local/lib/python3.7/dist-packages (from flask->jupyter_dash) (2.11.3)\n",
            "Requirement already satisfied: itsdangerous>=0.24 in /usr/local/lib/python3.7/dist-packages (from flask->jupyter_dash) (1.1.0)\n",
            "Requirement already satisfied: click>=5.1 in /usr/local/lib/python3.7/dist-packages (from flask->jupyter_dash) (7.1.2)\n",
            "Requirement already satisfied: Werkzeug>=0.15 in /usr/local/lib/python3.7/dist-packages (from flask->jupyter_dash) (1.0.1)\n",
            "Requirement already satisfied: six>=1.7.0 in /usr/local/lib/python3.7/dist-packages (from retrying->jupyter_dash) (1.15.0)\n",
            "Requirement already satisfied: pickleshare in /usr/local/lib/python3.7/dist-packages (from ipython->jupyter_dash) (0.7.5)\n",
            "Requirement already satisfied: simplegeneric>0.8 in /usr/local/lib/python3.7/dist-packages (from ipython->jupyter_dash) (0.8.1)\n",
            "Requirement already satisfied: prompt-toolkit<2.0.0,>=1.0.4 in /usr/local/lib/python3.7/dist-packages (from ipython->jupyter_dash) (1.0.18)\n",
            "Requirement already satisfied: pexpect; sys_platform != \"win32\" in /usr/local/lib/python3.7/dist-packages (from ipython->jupyter_dash) (4.8.0)\n",
            "Requirement already satisfied: setuptools>=18.5 in /usr/local/lib/python3.7/dist-packages (from ipython->jupyter_dash) (54.0.0)\n",
            "Requirement already satisfied: decorator in /usr/local/lib/python3.7/dist-packages (from ipython->jupyter_dash) (4.4.2)\n",
            "Requirement already satisfied: pygments in /usr/local/lib/python3.7/dist-packages (from ipython->jupyter_dash) (2.6.1)\n",
            "Requirement already satisfied: ipython-genutils in /usr/local/lib/python3.7/dist-packages (from traitlets>=4.1.0->ipykernel->jupyter_dash) (0.2.0)\n",
            "Requirement already satisfied: python-dateutil>=2.1 in /usr/local/lib/python3.7/dist-packages (from jupyter-client->ipykernel->jupyter_dash) (2.8.1)\n",
            "Requirement already satisfied: pyzmq>=13 in /usr/local/lib/python3.7/dist-packages (from jupyter-client->ipykernel->jupyter_dash) (22.0.3)\n",
            "Requirement already satisfied: jupyter-core>=4.6.0 in /usr/local/lib/python3.7/dist-packages (from jupyter-client->ipykernel->jupyter_dash) (4.7.1)\n",
            "Requirement already satisfied: brotli in /usr/local/lib/python3.7/dist-packages (from flask-compress->dash->jupyter_dash) (1.0.9)\n",
            "Requirement already satisfied: MarkupSafe>=0.23 in /usr/local/lib/python3.7/dist-packages (from Jinja2>=2.10.1->flask->jupyter_dash) (1.1.1)\n",
            "Requirement already satisfied: wcwidth in /usr/local/lib/python3.7/dist-packages (from prompt-toolkit<2.0.0,>=1.0.4->ipython->jupyter_dash) (0.2.5)\n",
            "Requirement already satisfied: ptyprocess>=0.5 in /usr/local/lib/python3.7/dist-packages (from pexpect; sys_platform != \"win32\"->ipython->jupyter_dash) (0.7.0)\n"
          ],
          "name": "stdout"
        }
      ]
    },
    {
      "cell_type": "code",
      "metadata": {
        "id": "bto8hEyS5UPJ"
      },
      "source": [
        "import dash\r\n",
        "import dash_html_components as html\r\n",
        "import dash_core_components as dcc\r\n",
        "from dash.dependencies import Input, Output, State\r\n",
        "from jupyter_dash import JupyterDash\r\n",
        "import plotly.graph_objects as go\r\n",
        "import plotly.express as px\r\n",
        "from dash import no_update"
      ],
      "execution_count": 37,
      "outputs": []
    },
    {
      "cell_type": "code",
      "metadata": {
        "id": "iGZjYI-1w4C7"
      },
      "source": [
        "# Create a dash application\r\n",
        "app = JupyterDash(__name__)\r\n",
        "JupyterDash.infer_jupyter_proxy_config()"
      ],
      "execution_count": 38,
      "outputs": []
    },
    {
      "cell_type": "code",
      "metadata": {
        "id": "uFioc3XgnHbd"
      },
      "source": [
        "# REVIEW1: Clear the layout and do not display exception till callback gets executed\r\n",
        "app.config.suppress_callback_exceptions = True"
      ],
      "execution_count": 39,
      "outputs": []
    },
    {
      "cell_type": "code",
      "metadata": {
        "id": "zSLsFKwtw6cF"
      },
      "source": [
        "\r\n",
        "\r\n",
        "# Read the airline data into pandas dataframe\r\n",
        "airline_data =  pd.read_csv('https://cf-courses-data.s3.us.cloud-object-storage.appdomain.cloud/IBMDeveloperSkillsNetwork-DV0101EN-SkillsNetwork/Data%20Files/airline_data.csv', \r\n",
        "                            encoding = \"ISO-8859-1\",\r\n",
        "                            dtype={'Div1Airport': str, 'Div1TailNum': str, \r\n",
        "                                   'Div2Airport': str, 'Div2TailNum': str})\r\n",
        "\r\n",
        "\r\n",
        "# List of years \r\n",
        "year_list = [i for i in range(2005, 2021, 1)]"
      ],
      "execution_count": 40,
      "outputs": []
    },
    {
      "cell_type": "code",
      "metadata": {
        "id": "h3On-VawxKFj"
      },
      "source": [
        "def compute_data_choice_1(df):\r\n",
        "    # Cancellation Category Count\r\n",
        "    bar_data = df.groupby(['Month','CancellationCode'])['Flights'].sum().reset_index()\r\n",
        "    # Average flight time by reporting airline\r\n",
        "    line_data = df.groupby(['Month','Reporting_Airline'])['AirTime'].mean().reset_index()\r\n",
        "    # Diverted Airport Landings\r\n",
        "    div_data = df[df['DivAirportLandings'] != 0.0]\r\n",
        "    # Source state count\r\n",
        "    map_data = df.groupby(['OriginState'])['Flights'].sum().reset_index()\r\n",
        "    # Destination state count\r\n",
        "    tree_data = df.groupby(['DestState', 'Reporting_Airline'])['Flights'].sum().reset_index()\r\n",
        "    return bar_data, line_data, div_data, map_data, tree_data\r\n"
      ],
      "execution_count": 41,
      "outputs": []
    },
    {
      "cell_type": "code",
      "metadata": {
        "id": "YzzKcMC_xK9D"
      },
      "source": [
        "def compute_data_choice_2(df):\r\n",
        "    # Compute delay averages\r\n",
        "    avg_car = df.groupby(['Month','Reporting_Airline'])['CarrierDelay'].mean().reset_index()\r\n",
        "    avg_weather = df.groupby(['Month','Reporting_Airline'])['WeatherDelay'].mean().reset_index()\r\n",
        "    avg_NAS = df.groupby(['Month','Reporting_Airline'])['NASDelay'].mean().reset_index()\r\n",
        "    avg_sec = df.groupby(['Month','Reporting_Airline'])['SecurityDelay'].mean().reset_index()\r\n",
        "    avg_late = df.groupby(['Month','Reporting_Airline'])['LateAircraftDelay'].mean().reset_index()\r\n",
        "    return avg_car, avg_weather, avg_NAS, avg_sec, avg_late"
      ],
      "execution_count": 42,
      "outputs": []
    },
    {
      "cell_type": "code",
      "metadata": {
        "id": "86vNeMs3xPb0"
      },
      "source": [
        "# Application layout\r\n",
        "app.layout = html.Div(children=[html.H1('US Domestic Airline Flights Performance',\r\n",
        "                                # TODO1: Add title to the dashboard\r\n",
        "                                          style={'textAlign': 'center',\r\n",
        "                                                'color': '#503D36',\r\n",
        "                                                 'font-size': 24}),\r\n",
        "    \r\n",
        "                                # REVIEW2: Dropdown creation\r\n",
        "                                # Create an outer division \r\n",
        "                                html.Div([\r\n",
        "                                    # Add an division\r\n",
        "                                    html.Div([\r\n",
        "                                        # Create an division for adding dropdown helper text for report type\r\n",
        "                                        html.Div(\r\n",
        "                                            [\r\n",
        "                                            html.H2('Report Type:', style={'margin-right': '2em'}),\r\n",
        "                                            ]\r\n",
        "                                        ),\r\n",
        "                                        # TODO2: Add a dropdown\r\n",
        "                                        dcc.Dropdown(id='input-type', \r\n",
        "                                                     # Update dropdown values using list comphrehension\r\n",
        "                                                     options=[{'label': 'Yearly Airline Performance Report', 'value': 'OPT1'},\r\n",
        "                                                              {'label': 'Yearly Airline Delay Report', 'value': 'OPT2'}],\r\n",
        "                                                     placeholder=\"Select a report type\",\r\n",
        "                                                     style={'width':'80%', 'padding':'3px', 'font-size': '20px', 'text-align-last' : 'center'}),\r\n",
        "                                    # Place them next to each other using the division style\r\n",
        "                                    ], style={'display':'flex'}),\r\n",
        "                                    \r\n",
        "                                   # Add next division \r\n",
        "                                   html.Div([\r\n",
        "                                       # Create an division for adding dropdown helper text for choosing year\r\n",
        "                                        html.Div(\r\n",
        "                                            [\r\n",
        "                                            html.H2('Choose Year:', style={'margin-right': '2em'})\r\n",
        "                                            ]\r\n",
        "                                        ),\r\n",
        "                                        dcc.Dropdown(id='input-year', \r\n",
        "                                                     # Update dropdown values using list comphrehension\r\n",
        "                                                     options=[{'label': i, 'value': i} for i in year_list],\r\n",
        "                                                     placeholder=\"Select a year\",\r\n",
        "                                                     style={'width':'80%', 'padding':'3px', 'font-size': '20px', 'text-align-last' : 'center'}),\r\n",
        "                                            # Place them next to each other using the division style\r\n",
        "                                            ], style={'display': 'flex'}),  \r\n",
        "                                          ]),\r\n",
        "                                \r\n",
        "                                # Add Computed graphs\r\n",
        "                                # REVIEW3: Observe how we add an empty division and providing an id that will be updated during callback\r\n",
        "                                html.Div([ ], id='plot1'),\r\n",
        "    \r\n",
        "                                html.Div([\r\n",
        "                                        html.Div([ ], id='plot2'),\r\n",
        "                                        html.Div([ ], id='plot3')\r\n",
        "                                ], style={'display': 'flex'}),\r\n",
        "                                \r\n",
        "                                # TODO3: Add a division with two empty divisions inside. See above disvision for example.\r\n",
        "                               html.Div([\r\n",
        "                                        html.Div([ ], id='plot4'),\r\n",
        "                                        html.Div([ ], id='plot5')\r\n",
        "                                ], style={'display': 'flex'}),\r\n",
        "                                ])\r\n",
        "\r\n",
        "# Callback function definition\r\n",
        "# TODO4: Add 5 ouput components\r\n",
        "@app.callback([Output(component_id='plot1', component_property='children'),\r\n",
        "               Output(component_id='plot2', component_property='children'),\r\n",
        "               Output(component_id='plot3', component_property='children'),\r\n",
        "               Output(component_id='plot4', component_property='children'),\r\n",
        "               Output(component_id='plot5', component_property='children')],\r\n",
        "              [Input(component_id='input-type', component_property='value'),\r\n",
        "               Input(component_id='input-year', component_property='value')],\r\n",
        "               # REVIEW4: Holding output state till user enters all the form information. In this case, it will be chart type and year\r\n",
        "               [State(\"plot1\", 'children'), State(\"plot2\", \"children\"),\r\n",
        "                State(\"plot3\", \"children\"), State(\"plot4\", \"children\"),\r\n",
        "                State(\"plot5\", \"children\")\r\n",
        "               ])\r\n",
        "# Add computation to callback function and return graph\r\n",
        "def get_graph(chart, year, children1, children2, c3, c4, c5):\r\n",
        "      \r\n",
        "        # Select data\r\n",
        "        df =  airline_data[airline_data['Year']==int(year)]\r\n",
        "       \r\n",
        "        if chart == 'OPT1':\r\n",
        "            # Compute required information for creating graph from the data\r\n",
        "            bar_data, line_data, div_data, map_data, tree_data = compute_data_choice_1(df)\r\n",
        "            \r\n",
        "            # Number of flights under different cancellation categories\r\n",
        "            bar_fig = px.bar(bar_data, x='Month', y='Flights', color='CancellationCode', title='Monthly Flight Cancellation')\r\n",
        "            \r\n",
        "            # TODO5: Average flight time by reporting airline\r\n",
        "            line_fig = px.line(line_data, values='Month', names='AirTime', color='Reporting_Airline', title='Average monthly flight time (minutes) by airlinee')\r\n",
        "            \r\n",
        "            # Percentage of diverted airport landings per reporting airline\r\n",
        "            pie_fig = px.pie(div_data, values='Flights', names='Reporting_Airline', title='% of flights by reporting airline')\r\n",
        "            \r\n",
        "            # REVIEW5: Number of flights flying from each state using choropleth\r\n",
        "            map_fig = px.choropleth(map_data,  # Input data\r\n",
        "                    locations='OriginState', \r\n",
        "                    color='Flights',  \r\n",
        "                    hover_data=['OriginState', 'Flights'], \r\n",
        "                    locationmode = 'USA-states', # Set to plot as US States\r\n",
        "                    color_continuous_scale='GnBu',\r\n",
        "                    range_color=[0, map_data['Flights'].max()]) \r\n",
        "            map_fig.update_layout(\r\n",
        "                    title_text = 'Number of flights from origin state', \r\n",
        "                    geo_scope='usa') # Plot only the USA instead of globe\r\n",
        "            \r\n",
        "            # TODO6: Number of flights flying to each state from each reporting airline\r\n",
        "            \r\n",
        "            tree_fig = px.treemap(data=tree_data, path=['DestState', 'Reporting_Airline'], \r\n",
        "                      values='Flights',\r\n",
        "                      color='Flights',\r\n",
        "                      color_continuous_scale='RdBu',\r\n",
        "                      title='Flight count by airline to destination state'\r\n",
        "                )\r\n",
        "            \r\n",
        "            # REVIEW6: Return dcc.Graph component to the empty division\r\n",
        "            return [dcc.Graph(figure=tree_fig), \r\n",
        "                    dcc.Graph(figure=pie_fig),\r\n",
        "                    dcc.Graph(figure=map_fig),\r\n",
        "                    dcc.Graph(figure=bar_fig),\r\n",
        "                    dcc.Graph(figure=line_fig)\r\n",
        "                   ]\r\n",
        "        else:\r\n",
        "            # REVIEW7: This covers chart type 2 and we have completed this exercise under Flight Delay Time Statistics Dashboard section\r\n",
        "            # Compute required information for creating graph from the data\r\n",
        "            avg_car, avg_weather, avg_NAS, avg_sec, avg_late = compute_data_choice_2(df)\r\n",
        "            \r\n",
        "            # Create graph\r\n",
        "            carrier_fig = px.line(avg_car, x='Month', y='CarrierDelay', color='Reporting_Airline', title='Average carrrier delay time (minutes) by airline')\r\n",
        "            weather_fig = px.line(avg_weather, x='Month', y='WeatherDelay', color='Reporting_Airline', title='Average weather delay time (minutes) by airline')\r\n",
        "            nas_fig = px.line(avg_NAS, x='Month', y='NASDelay', color='Reporting_Airline', title='Average NAS delay time (minutes) by airline')\r\n",
        "            sec_fig = px.line(avg_sec, x='Month', y='SecurityDelay', color='Reporting_Airline', title='Average security delay time (minutes) by airline')\r\n",
        "            late_fig = px.line(avg_late, x='Month', y='LateAircraftDelay', color='Reporting_Airline', title='Average late aircraft delay time (minutes) by airline')\r\n",
        "            \r\n",
        "            return[dcc.Graph(figure=carrier_fig), \r\n",
        "                   dcc.Graph(figure=weather_fig), \r\n",
        "                   dcc.Graph(figure=nas_fig), \r\n",
        "                   dcc.Graph(figure=sec_fig), \r\n",
        "                   dcc.Graph(figure=late_fig)]\r\n"
      ],
      "execution_count": 43,
      "outputs": []
    },
    {
      "cell_type": "code",
      "metadata": {
        "colab": {
          "base_uri": "https://localhost:8080/",
          "height": 723
        },
        "id": "QzMfDujFxeeE",
        "outputId": "e87f5a31-0be8-45ce-a9fe-518bc22f0acb"
      },
      "source": [
        "# Run the app\r\n",
        "if __name__ == '__main__':\r\n",
        "    # REVIEW8: Adding dev_tools_ui=False, dev_tools_props_check=False can prevent error appearing before calling callback function\r\n",
        "    app.run_server(mode=\"inline\", host=\"localhost\", debug=False, dev_tools_ui=False, dev_tools_props_check=False)"
      ],
      "execution_count": 44,
      "outputs": [
        {
          "output_type": "stream",
          "text": [
            "127.0.0.1 - - [08/Mar/2021 08:14:13] \"\u001b[37mGET /_shutdown_0eec7952-e6d2-406a-96e4-306d7f7f4605 HTTP/1.1\u001b[0m\" 200 -\n",
            " * Running on http://localhost:8050/ (Press CTRL+C to quit)\n",
            "127.0.0.1 - - [08/Mar/2021 08:14:13] \"\u001b[37mGET /_alive_0eec7952-e6d2-406a-96e4-306d7f7f4605 HTTP/1.1\u001b[0m\" 200 -\n"
          ],
          "name": "stderr"
        },
        {
          "output_type": "display_data",
          "data": {
            "application/javascript": [
              "(async (port, path, width, height, cache, element) => {\n",
              "    if (!google.colab.kernel.accessAllowed && !cache) {\n",
              "      return;\n",
              "    }\n",
              "    element.appendChild(document.createTextNode(''));\n",
              "    const url = await google.colab.kernel.proxyPort(port, {cache});\n",
              "    const iframe = document.createElement('iframe');\n",
              "    iframe.src = url + path;\n",
              "    iframe.height = height;\n",
              "    iframe.width = width;\n",
              "    iframe.style.border = 0;\n",
              "    element.appendChild(iframe);\n",
              "  })(8050, \"/\", \"100%\", 650, false, window.element)"
            ],
            "text/plain": [
              "<IPython.core.display.Javascript object>"
            ]
          },
          "metadata": {
            "tags": []
          }
        }
      ]
    }
  ]
}